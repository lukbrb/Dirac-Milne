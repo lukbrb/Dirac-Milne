{
 "cells": [
  {
   "cell_type": "markdown",
   "metadata": {
    "id": "ktknNdE0vTMX"
   },
   "source": [
    "# 1 - Sujet"
   ]
  },
  {
   "cell_type": "markdown",
   "metadata": {
    "id": "Ott8SDqUve_n"
   },
   "source": [
    "## 1.1 - Introduction "
   ]
  },
  {
   "cell_type": "markdown",
   "metadata": {
    "id": "F91E5F5svp1X"
   },
   "source": [
    "Le sujet consiste à estimer le *spectre du bruit de fond cosmologique* induit par les structures massives entre $z=0$ et la fenêtre de transparence de l'univers $z=1080$, dans ce que l'on appelle l'effet *Integrated Sachs-Wolfe* ([ISW](https://fr.wikipedia.org/wiki/Effet_Sachs-Wolfe)). Cet effet est prépondérant dans l'univers de Dirac-Milne, en raison de sa géométrie d'espace-temps plat et d'espace ouvert.\n",
    "\n",
    "Pour l'estimation, on utilisera :\n",
    "- Les caractéristiques géométriques de distances de l'univers de D-M\n",
    "- La densité de matière de l'univers de D-M\n",
    "- [Spectre de puissance](https://media4.obspm.fr/public/AAM/pages_ser-fourier/spec.html) des structures dans l'univers de D-M\n",
    "\n",
    "*Ces trois éléments sont en pratique suffisant pour estimer avec une bonne approximation l'effet ISW et le spectre de perturbations induites sur le CMB.*\n",
    "\n",
    "**Caractéristiques géométriques**\n",
    "\n",
    "Pour les caracéristiques géométriques de l'univers de Dirac-Milne, il faut calculer :\n",
    "- Le covolume entre *redshift* 0 et *redshift* z\n",
    "- La distance radiale comobile en fonction du *redshift* z\n",
    "- La distance de diamètre angulaire en fonction du *redshift* z\n",
    "\n",
    "Combiné avec la masse des structures typiques à *redhsift* z, on peut **calculer le nombre moyen de structures en fonction du *redshift***. Chaque structure fait une *tâche* de modification sur la température du CMB sur le *ciel*. \n",
    "\n",
    "Finalement, on fait la somme de l'ensemble des structures pour chaque tranche de *redhsift*. (Pour chaque tranche de *redshift*, on fait la somme de toutes les structures, puis on fait la somme de toutes les tranches). Cette double somme permet d'obtenir le **spectre de modifications** de la température du fond diffus cosmologique.\n"
   ]
  },
  {
   "cell_type": "markdown",
   "metadata": {
    "id": "4fYjoCS-xC-Y"
   },
   "source": [
    "## 1.2 - Ressources"
   ]
  },
  {
   "cell_type": "markdown",
   "metadata": {
    "id": "xpnWfouqqCGO"
   },
   "source": [
    "**Ressources bibliographiques :**\n",
    "- Densité de matière *A. Benoit-Lévy, and G. Chardin* \"[Introducing the Dirac-Milne Universe](https://arxiv.org/pdf/1110.3054.pdf)\"\n",
    "- Spectre de puissance des structures, pour dériver la distribution de masse des structures dans D-M [\"Structure formation in a Dirac-Milne universe : comparison with the standard cosmological model\"](https://arxiv.org/pdf/2010.07776.pdf)\n",
    "- Formules de distance: http://www.astro.ucla.edu/~wright/Distances_details.gif\n",
    "\n",
    "**Liens utiles et calculateurs:**\n",
    "- Covolume, distance radiale comobile, distance de diamètre angulaire : https://astro.ucla.edu/~wright/CosmoCalc.html (copier-coller car le \"/\" après \"edu\" disparaît)\n",
    "\n",
    "- Autre calculateur : http://www.icosmos.co.uk/\n",
    "\n",
    "- [Guide Markdown](https://www.ionos.fr/digitalguide/sites-internet/developpement-web/markdown/)\n",
    "- Liste de [constantes astrophysiques](https://fr.wikipedia.org/wiki/Table_de_constantes_et_param%C3%A8tres_astrophysiques)\n",
    "\n",
    "- [Cours](https://media4.obspm.fr/public/ressources_lu/pages_relat-gene/distance-cosmo.html) sur les distances cosmologiques et sur la métrique "
   ]
  },
  {
   "cell_type": "markdown",
   "metadata": {
    "id": "wQIqrQCny17Y"
   },
   "source": [
    "# 2 - Calculs analytiques"
   ]
  },
  {
   "cell_type": "markdown",
   "metadata": {
    "id": "tlZWMHsiy7gS"
   },
   "source": [
    "D'après les [formules](http://www.astro.ucla.edu/~wright/Distances_details.gif), on peut déterminer analytiquement les distances qui nous intéressent :\n",
    "- La distance comobile radiale\n",
    "- La distance parcourue par la lumière, et donc le temps après le *Big Bang* à *z* donné\n",
    "- La distance angulaire, et par extension la distance de luminosité puisque   $D_L = (1 + z)^2 D_A$  \n",
    "\n",
    "Il faudra ensuite déterminer les constantes cosmologiques correspondantes à l'univers de Dirac-Milne.\n",
    "\n",
    "Parmi ces paramètres :\n",
    "- La densité de matière : $\\Omega_m = \\frac{\\rho_m}{\\rho_c}$ avec $\\rho_c = \\frac{3H^2}{8\\pi G}$ ($\\simeq 0,3$ aujourd'hui)\n",
    "- Paramètre de rayonnement : $\\Omega_r$ ($< 10^{-4}$)\n",
    "- Lié à la constante cosmologique : $\\Omega_{\\Lambda}$ ($=0,7$)\n",
    "- Lié à la courbure de l'espace-temps : $\\Omega_k = \\frac{-kc^2}{H^2 a^2}$. \n"
   ]
  },
  {
   "cell_type": "markdown",
   "metadata": {
    "id": "DNmY10GK0d5T"
   },
   "source": [
    "## 2.1 Distance comobile radiale "
   ]
  },
  {
   "cell_type": "markdown",
   "metadata": {
    "id": "dFHNOG8j1yXk"
   },
   "source": [
    "La métrique est donnée par $ds^2 = c^2 dt^2 - a(t)^2 R_0 ^2 (dr^2 + S^2(r)[d\\theta^2 + sin^2 \\theta d\\phi^2])$ où :\n",
    "- $S(x) = sinh(x)$ si $\\Omega_{tot} < 1$ (ou $k=-1$)\n",
    "- $S(x) = sin(x)$ si $\\Omega_{tot} > 1$ (ou $k=1$)\n",
    "- $S(x) = x$ si $\\Omega_{tot} = 1$ (ou $k=0$).\n",
    "\n",
    "et où $R_0 = \\dfrac{c/H_0}{\\sqrt{|1 - \\Omega_{tot}|}}$. \n",
    "\n",
    "Dans l'univers de Dirac-Milne (toujours d'après d'après [Introducing the Dirac-Milne Universe](https://arxiv.org/pdf/1110.3054.pdf)), où $k = -1$, on aurait alors simplement une métrique donnée par : $ds^2 = c^2 dt^2 - a(t)^2 (dr^2 + S^2(r) d\\phi^2)$ \n",
    "\n",
    "Finalement on aurait pour la distance comobile radiale :\n",
    "\n",
    "$D_{now} = R_0 r = \\int \\frac{c}{a} \\, \\mathrm{d}t = \\int_{\\frac{1}{1+z}}^{1}\\frac{c}{\\dot{a}} \\, \\mathrm{d}t  $\n",
    "où on pose $\\dot{a} = H_0 \\sqrt{\\Omega_k + \\frac{\\Omega_m}{a} + \\frac{\\Omega_r}{a^2} + \\Omega_{\\Lambda} a^2}$."
   ]
  },
  {
   "cell_type": "markdown",
   "metadata": {
    "id": "0KBNcQ0xPnr9"
   },
   "source": [
    "## 2.2 - Spécificités de l'univers de Dirac-Milne"
   ]
  },
  {
   "cell_type": "markdown",
   "metadata": {
    "id": "PmW9we3NPvtF"
   },
   "source": [
    "D'après \"[Introducing the Dirac-Milne Universe](https://arxiv.org/pdf/1110.3054.pdf)\",  l'univers de Dirac-Milne n'est ni en accélération ni en décélération et est donc équivalent à un univers vide et ouvert. En terme des paramètres décrits ci-dessus, cela correspond à $\\Omega_m = 0$ et $\\Omega_{\\Lambda} = 0$. \n",
    "Il en découle que la distance de luminosité s'exprime de manière simple : \n",
    "$d_l(z) = \\dfrac{c}{H_0}(1 + z) \\sinh[ln(1 + z)]$. \n",
    "\n",
    "Et puisque l'on a $d_l(z) = (1 + z) d_r(z) = (1 + z)^2 d_a(z)$, on peut en déduire que : \n",
    "- la distance comobile radiale : $d_r(z) = \\dfrac{c}{H_0}\\ln(1 + z)$\n",
    "- la distance comobile trasnversale : $d_m(z) = \\dfrac{c}{H_0}\\sinh[\\ln(1 + z)]$\n",
    "- la distance de diamètre angulaire : $d_a(z) = \\dfrac{c}{H_0}\\dfrac{\\sinh[\\ln(1 + z)]}{1 + z}$ \n",
    "\n",
    "De ces valeurs, on calcule ensuite le covolume et le volume propre:\n",
    "- covolume : $V_c = 2\\pi \\left(\\dfrac{c}{H_0}\\right)^3 \\times \\left[f \\sqrt{1 + f^2} - \\ln (1 + z)\\right]$ où $f=d_m(z). \\dfrac{H_0}{c}$\n",
    "\n",
    "- volume propre : $V_p = \\frac{4}{3} \\pi d_a(z)^3$"
   ]
  },
  {
   "cell_type": "markdown",
   "metadata": {
    "id": "zz9gA7CixnlP"
   },
   "source": [
    "### 2.2.1 - Densité de matière dans l'univers de Dirac-Milne"
   ]
  },
  {
   "cell_type": "markdown",
   "metadata": {
    "id": "TVBufj7WxnlQ"
   },
   "source": [
    "On trouve dans l'univers de Dirac-Milne $3,2$ protons par mètre cube. Connaissant la masse du proton $m_p = 1,6726 10^{-27} kg$, on peut en déduire que la densité de masse dans l'univers de Dirac-Milne $\\rho_m = 5,35232 \\times 10^{-27} kg.m^{-3}$. On peut ainsi déduire le paramètre de densité $\\Omega_m = \\frac{5,35232}{2,0}\\times 10^{-1} = 0,267616$ de la matière. Pour l'antimatière on aurait l'opposé, et ainsi $\\Omega_m = \\Omega_{m+} + \\Omega_{m-} = 0$. De plus, en partant de l'équation $2q = \\Omega_m + \\Omega_r - 2\\Omega_{\\Lambda}$ on a que $\\Omega_m = 2\\Omega_{\\Lambda}$ puisque $\\Omega_m = \\Omega_r = 0$. \n",
    "\n",
    "#### Evolution de la densité\n",
    "\n",
    "On s'intéresse maintenant à l'évolution de la densité en fonction du *redshift*. L'expansion de l'univers fait augmenter les volumes, et on a ainsi $\\rho(z) = \\rho_0 (1 + z)^3$. La densité décroît avec le temps. "
   ]
  },
  {
   "cell_type": "markdown",
   "metadata": {
    "id": "iNr9AM0Pn61k"
   },
   "source": [
    "# 3 - Résolution numérique"
   ]
  },
  {
   "cell_type": "code",
   "execution_count": null,
   "metadata": {
    "id": "bfcvI4kMuwo0"
   },
   "outputs": [],
   "source": [
    "import scipy.integrate as itg\n",
    "import numpy as np\n",
    "import matplotlib.pyplot as plt\n",
    "import os"
   ]
  },
  {
   "cell_type": "code",
   "execution_count": null,
   "metadata": {
    "id": "wTe6ThceSbHT"
   },
   "outputs": [],
   "source": [
    "dossier_courant = \"/Users/lucas-copernion/Google Drive/Dirac-Milne\"\n",
    "os.chdir(dossier_courant)"
   ]
  },
  {
   "cell_type": "markdown",
   "metadata": {
    "id": "dU6rQ6avoCMn"
   },
   "source": [
    "## 3.1 - Paramètres et intégrales"
   ]
  },
  {
   "cell_type": "markdown",
   "metadata": {
    "id": "FM1XkFoQHvYG"
   },
   "source": [
    "Afin de calculer les distances ci-dessus pour chaque *redshift* entre aujourd'hui ($z=0$) et le FDC ($z=1080$), il est convénient d'intégrer les calculs faits ci-dessus à une classe. ([Voir code](https://github.com/lukbrb/CosmoDist/blob/master/CalculDistances.py))"
   ]
  },
  {
   "cell_type": "markdown",
   "metadata": {
    "id": "qSMTd47URivB"
   },
   "source": [
    "On peut appeler cette classe et une classe enfant spécifique à l'Univers de Dirac-Milne :"
   ]
  },
  {
   "cell_type": "code",
   "execution_count": null,
   "metadata": {
    "colab": {
     "base_uri": "https://localhost:8080/"
    },
    "executionInfo": {
     "elapsed": 185,
     "status": "ok",
     "timestamp": 1622454986326,
     "user": {
      "displayName": "Lucas Barbier",
      "photoUrl": "https://lh3.googleusercontent.com/a-/AOh14GgF_yyZb9eCj_LzpegcC4VaL1vqfNUAWTrU9eyg=s64",
      "userId": "11942330390937453237"
     },
     "user_tz": -120
    },
    "id": "pKslDebLR1-B",
    "outputId": "f07bc098-08d9-4fe4-92ee-127226b539d8"
   },
   "outputs": [
    {
     "name": "stdout",
     "output_type": "stream",
     "text": [
      "Modules importés\n"
     ]
    }
   ],
   "source": [
    "try:\n",
    "  from CalculDistances import CalculDistances\n",
    "  from CalculDistances import DistancesDM\n",
    "  print(\"Modules importés\")\n",
    "except ModuleNotFoundError:\n",
    "  print(\"Connecter au drive ou changer de dossier\\nDossier actuel :\" + os.getcwd())"
   ]
  },
  {
   "cell_type": "markdown",
   "metadata": {
    "id": "aFgvPjcmR1Gi"
   },
   "source": [
    "Exemple de fonctionnement, avec la méthode `.description()` :"
   ]
  },
  {
   "cell_type": "code",
   "execution_count": null,
   "metadata": {
    "colab": {
     "base_uri": "https://localhost:8080/"
    },
    "executionInfo": {
     "elapsed": 12,
     "status": "ok",
     "timestamp": 1622454990460,
     "user": {
      "displayName": "Lucas Barbier",
      "photoUrl": "https://lh3.googleusercontent.com/a-/AOh14GgF_yyZb9eCj_LzpegcC4VaL1vqfNUAWTrU9eyg=s64",
      "userId": "11942330390937453237"
     },
     "user_tz": -120
    },
    "id": "1zBSap7iTeLK",
    "outputId": "70c396ae-87f8-4569-97c0-44a345fc6a77"
   },
   "outputs": [
    {
     "name": "stdout",
     "output_type": "stream",
     "text": [
      "Données pour l'univers de Dirac-Milne :\n",
      "\n",
      "Distance comobile radiale à z = 1: 2968.575671654797 Mpc\n",
      "Distance de diamètre angulaire à z = 1: 1606.0310249999998 Mpc\n",
      "Distance de luminosité à z = 1: 6424.124099999999 Mpc\n",
      "Covolume = 120.60497182654248 Gpc^3\n",
      "Volume propre = 17.352034449584306 Gpc^3\n",
      "\n",
      "Distance comobile radiale à z = 1: 2968.5756716547976 Mpc\n",
      "Distance de diamètre angulaire à z = 1: 1248.9851469520627 Mpc\n",
      "Distance de luminosité à z = 1: 4995.940587808251 Mpc\n",
      "Covolume = 109.58042517566071 Gpc^3\n",
      "Volume propre = 8.1613204493969 Gpc^3 \n",
      "\n"
     ]
    },
    {
     "data": {
      "text/plain": [
       "' '"
      ]
     },
     "execution_count": 14,
     "metadata": {
      "tags": []
     },
     "output_type": "execute_result"
    }
   ],
   "source": [
    "z = 1\n",
    "univ_DM = DistancesDM(70) \n",
    "univ_DM.description(z)\n",
    "\n",
    "Univ = CalculDistances(70, 0, 0, 0)\n",
    "Univ.description(z)"
   ]
  },
  {
   "cell_type": "markdown",
   "metadata": {
    "id": "BNHZUlXlHRVc"
   },
   "source": [
    "## 3.2 - Itérations sur les z"
   ]
  },
  {
   "cell_type": "markdown",
   "metadata": {
    "id": "v4nZ_gf8Ul4i"
   },
   "source": [
    "On veut maintenant calculer ces valeurs pour z allant de 0 à 1080. Pour ne pas devoir refaire le calcul à chaque fois, on écrira les résultats dans un fichier .csv"
   ]
  },
  {
   "cell_type": "code",
   "execution_count": null,
   "metadata": {
    "id": "38L6g-6FUj4L"
   },
   "outputs": [],
   "source": [
    "import csv"
   ]
  },
  {
   "cell_type": "code",
   "execution_count": null,
   "metadata": {
    "id": "mZB0P6UzWsIC"
   },
   "outputs": [],
   "source": [
    "# Pour séparer les parties, on crée une nouvelle instance de DistancesDM\n",
    "H_0 = 70\n",
    "dist = DistancesDM(H_0)  "
   ]
  },
  {
   "cell_type": "code",
   "execution_count": null,
   "metadata": {
    "id": "wZw1kBDs7mUp"
   },
   "outputs": [],
   "source": [
    "#! mkdir donnees # A noter que le dossier disparaît entre plusieurs sessions sur GoogleColab"
   ]
  },
  {
   "cell_type": "code",
   "execution_count": null,
   "metadata": {
    "id": "Zk9l9b1TxnlY"
   },
   "outputs": [],
   "source": [
    "N = 1000\n",
    "zmax = 20"
   ]
  },
  {
   "cell_type": "code",
   "execution_count": null,
   "metadata": {
    "id": "mEZc2qg2VGja"
   },
   "outputs": [],
   "source": [
    "with open('donnees/distance_redshift.csv', 'w', newline='') as iter_redshift:\n",
    "    titres_colonnes = ['z', 'DCMR','DA', 'DL', 'VC']\n",
    "    \n",
    "    csv_writer = csv.DictWriter(iter_redshift, fieldnames=titres_colonnes, delimiter=';')\n",
    "    csv_writer.writeheader()\n",
    "    for z in np.linspace(0, zmax, N):\n",
    "        DCMR = dist.calcul_DCMR(z)\n",
    "        DA = dist.calcul_DA(z)\n",
    "        DL = dist.calcul_DL(z)\n",
    "        VC = dist.calcul_COVOL(z)/1e9\n",
    "        csv_writer.writerow({'z': z, \n",
    "                             'DCMR': DCMR,\n",
    "                             'DA': DA,\n",
    "                             'DL': DL,\n",
    "                             'VC': VC\n",
    "                               })"
   ]
  },
  {
   "cell_type": "code",
   "execution_count": null,
   "metadata": {
    "id": "Lj7gNggLaBqw"
   },
   "outputs": [],
   "source": [
    "import pandas as pd"
   ]
  },
  {
   "cell_type": "code",
   "execution_count": null,
   "metadata": {
    "id": "vbb8NWkxaEPP"
   },
   "outputs": [],
   "source": [
    "df = pd.read_csv(\"donnees/distance_redshift.csv\", delimiter=\";\")"
   ]
  },
  {
   "cell_type": "code",
   "execution_count": null,
   "metadata": {
    "colab": {
     "base_uri": "https://localhost:8080/",
     "height": 1000
    },
    "executionInfo": {
     "elapsed": 1148,
     "status": "ok",
     "timestamp": 1622103461985,
     "user": {
      "displayName": "Lucas Barbier",
      "photoUrl": "https://lh3.googleusercontent.com/a-/AOh14GgF_yyZb9eCj_LzpegcC4VaL1vqfNUAWTrU9eyg=s64",
      "userId": "11942330390937453237"
     },
     "user_tz": -120
    },
    "id": "fDVR821OaNQH",
    "outputId": "84789b86-4f67-47b5-8081-c68fb91a7906"
   },
   "outputs": [
    {
     "data": {
      "image/png": "[encoded data removed]",
      "text/plain": [
       "<Figure size 720x432 with 1 Axes>"
      ]
     },
     "metadata": {
      "needs_background": "light",
      "tags": []
     },
     "output_type": "display_data"
    },
    {
     "data": {
      "image/png": "[encoded data removed]",
      "text/plain": [
       "<Figure size 720x432 with 1 Axes>"
      ]
     },
     "metadata": {
      "needs_background": "light",
      "tags": []
     },
     "output_type": "display_data"
    },
    {
     "data": {
      "image/png": "[encoded data removed]",
      "text/plain": [
       "<Figure size 720x432 with 1 Axes>"
      ]
     },
     "metadata": {
      "needs_background": "light",
      "tags": []
     },
     "output_type": "display_data"
    },
    {
     "data": {
      "image/png": "[encoded data removed]",
      "text/plain": [
       "<Figure size 720x432 with 1 Axes>"
      ]
     },
     "metadata": {
      "needs_background": "light",
      "tags": []
     },
     "output_type": "display_data"
    }
   ],
   "source": [
    "df.plot(figsize=(10,6), x=\"z\", y=\"DCMR\", grid=True, title=\"Distance comobile radiale\", xlim=(0,zmax));\n",
    "df.plot(figsize=(10,6), x=\"z\", y=\"DA\", grid=True, title=\"Distance de diamètre angulaire\", xlim=(0,zmax));\n",
    "df.plot(figsize=(10,6), x=\"z\", y=\"DL\", grid=True, title=\"Distance de luminosité\", xlim=(0,zmax));\n",
    "df.plot(figsize=(10,6), x=\"z\", y=\"VC\", grid=True, title=\"Covolume\", xlim=(0,zmax));"
   ]
  }
 ],
 "metadata": {
  "colab": {
   "collapsed_sections": [],
   "name": "Distances_Cosmo.ipynb",
   "provenance": [],
   "toc_visible": true
  },
  "kernelspec": {
   "display_name": "Python 3",
   "language": "python",
   "name": "python3"
  },
  "language_info": {
   "codemirror_mode": {
    "name": "ipython",
    "version": 3
   },
   "file_extension": ".py",
   "mimetype": "text/x-python",
   "name": "python",
   "nbconvert_exporter": "python",
   "pygments_lexer": "ipython3",
   "version": "3.8.5"
  }
 },
 "nbformat": 4,
 "nbformat_minor": 4
}
